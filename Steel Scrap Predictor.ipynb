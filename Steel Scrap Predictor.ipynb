{
  "nbformat": 4,
  "nbformat_minor": 0,
  "metadata": {
    "colab": {
      "name": "EDA.ipynb",
      "provenance": [],
      "toc_visible": true,
      "authorship_tag": "ABX9TyMyw+zzSHUsNDUbgxwaLQyT",
      "include_colab_link": true
    },
    "kernelspec": {
      "name": "python3",
      "display_name": "Python 3"
    }
  },
  "cells": [
    {
      "cell_type": "markdown",
      "metadata": {
        "id": "view-in-github",
        "colab_type": "text"
      },
      "source": [
        "<a href=\"https://colab.research.google.com/github/MateoPeri/steel-scrap-predictor/blob/simple/Steel%20Scrap%20Predictor.ipynb\" target=\"_parent\"><img src=\"https://colab.research.google.com/assets/colab-badge.svg\" alt=\"Open In Colab\"/></a>"
      ]
    },
    {
      "cell_type": "code",
      "metadata": {
        "id": "dZNkMxo943AA",
        "colab_type": "code",
        "colab": {}
      },
      "source": [
        "import pandas as pd\n",
        "import numpy as np\n",
        "import glob, os\n",
        "\n",
        "from sklearn.metrics import mean_squared_error, r2_score, mean_absolute_error\n",
        "\n",
        "#from fbprophet import Prophet\n",
        "from sklearn.linear_model import LinearRegression\n",
        "from sklearn.model_selection import train_test_split\n",
        "\n",
        "import matplotlib.pyplot as plt\n",
        "from matplotlib.pyplot import *\n",
        "import altair as alt\n",
        "plt.style.use('seaborn-poster')"
      ],
      "execution_count": 21,
      "outputs": []
    },
    {
      "cell_type": "markdown",
      "metadata": {
        "id": "vd6UZbv434Tm",
        "colab_type": "text"
      },
      "source": [
        "# Data preparation"
      ]
    },
    {
      "cell_type": "code",
      "metadata": {
        "id": "C4YhtlIr7Bkj",
        "colab_type": "code",
        "colab": {
          "base_uri": "https://localhost:8080/",
          "height": 401
        },
        "outputId": "0ee6da4e-489e-41c2-a16d-72bdb7ad5381"
      },
      "source": [
        "!rm -rf '/content/data'\n",
        "!mkdir data\n",
        "PATH = '/content/data/'\n",
        "!wget -P {PATH} https://raw.githubusercontent.com/MateoPeri/steel-scrap-predictor/master/data/raw.zip\n",
        "!unzip {PATH}raw.zip -d {PATH}"
      ],
      "execution_count": 2,
      "outputs": [
        {
          "output_type": "stream",
          "text": [
            "--2020-06-19 09:33:09--  https://raw.githubusercontent.com/MateoPeri/steel-scrap-predictor/master/data/raw.zip\n",
            "Resolving raw.githubusercontent.com (raw.githubusercontent.com)... 151.101.0.133, 151.101.64.133, 151.101.128.133, ...\n",
            "Connecting to raw.githubusercontent.com (raw.githubusercontent.com)|151.101.0.133|:443... connected.\n",
            "HTTP request sent, awaiting response... 200 OK\n",
            "Length: 2552121 (2.4M) [application/zip]\n",
            "Saving to: ‘/content/data/raw.zip’\n",
            "\n",
            "\rraw.zip               0%[                    ]       0  --.-KB/s               \rraw.zip             100%[===================>]   2.43M  15.7MB/s    in 0.2s    \n",
            "\n",
            "2020-06-19 09:33:10 (15.7 MB/s) - ‘/content/data/raw.zip’ saved [2552121/2552121]\n",
            "\n",
            "Archive:  /content/data/raw.zip\n",
            "   creating: /content/data/raw/\n",
            "  inflating: /content/data/raw/CSF EOI.xlsx  \n",
            "  inflating: /content/data/raw/CSF TV.xlsx  \n",
            "  inflating: /content/data/raw/HC Closing Prices.xlsx  \n",
            "  inflating: /content/data/raw/HC Final Settlement prices.xlsx  \n",
            "  inflating: /content/data/raw/HU Closing Prices.xlsx  \n",
            "  inflating: /content/data/raw/HU Final Settlement prices.xlsx  \n",
            "  inflating: /content/data/raw/SC Closing Prices.xlsx  \n",
            "  inflating: /content/data/raw/SC Final Settlement prices.xlsx  \n",
            "  inflating: /content/data/raw/SR Closing Prices.xlsx  \n",
            "  inflating: /content/data/raw/SR Final Settlement prices.xlsx  \n"
          ],
          "name": "stdout"
        }
      ]
    },
    {
      "cell_type": "markdown",
      "metadata": {
        "id": "UH_mF2CDd2XL",
        "colab_type": "text"
      },
      "source": [
        "## Load dataset"
      ]
    },
    {
      "cell_type": "code",
      "metadata": {
        "id": "R2WShv21_PWC",
        "colab_type": "code",
        "colab": {}
      },
      "source": [
        "def st_to_mt(st):\n",
        "  return st/1.10231131"
      ],
      "execution_count": 3,
      "outputs": []
    },
    {
      "cell_type": "markdown",
      "metadata": {
        "id": "9wAqF_PKkH5s",
        "colab_type": "text"
      },
      "source": [
        "Load Price data"
      ]
    },
    {
      "cell_type": "code",
      "metadata": {
        "id": "WulgI-OEnTGH",
        "colab_type": "code",
        "colab": {}
      },
      "source": [
        "# por ahora solo SC y SR\n",
        "ignore = ['SR', 'HU', 'HC', 'AM', 'UP']"
      ],
      "execution_count": 4,
      "outputs": []
    },
    {
      "cell_type": "code",
      "metadata": {
        "id": "17E9W2w_6aWM",
        "colab_type": "code",
        "colab": {
          "base_uri": "https://localhost:8080/",
          "height": 226
        },
        "outputId": "61c4234f-7543-4602-d552-0c7fcca0c713"
      },
      "source": [
        "p = PATH+'raw/*Closing Prices.xlsx'\n",
        "excels = glob.glob(p)\n",
        "\n",
        "frames = {}\n",
        "\n",
        "for xcel in excels:\n",
        "  d = pd.read_excel(xcel, parse_dates=True, decimal=',', thousands='.')\n",
        "  # le añadimos un nombre para saber qué metal es\n",
        "  name = os.path.basename(xcel)[:2]\n",
        "  if name in ignore: continue\n",
        "  if name == 'HU':\n",
        "    # Seleccionar todas las columnas menos USD/st\n",
        "    cols = [c for c in d.columns if c != 'USD/st (Short Ton)']\n",
        "    # y aplicarles la funcion st_to_mt para pasar a toneladas métricas\n",
        "    d[cols] = d[cols].apply(st_to_mt, axis=1)\n",
        "    # Cambiamos el nombre a la columna\n",
        "    d.rename({'USD/st (Short Ton)': 'USD/mt'}, axis=1, inplace=True)\n",
        "  \n",
        "  d.columns = ['Date'] + [name+'_'+c for c in d.columns if c != 'USD/mt']\n",
        "  \n",
        "  frames[name] = d\n",
        "\n",
        "dfs = [d.drop_duplicates().set_index(['Date']) for d in frames.values()]\n",
        "price_df = pd.concat(dfs, axis=1)\n",
        "\n",
        "price_df.head()"
      ],
      "execution_count": 5,
      "outputs": [
        {
          "output_type": "execute_result",
          "data": {
            "text/html": [
              "<div>\n",
              "<style scoped>\n",
              "    .dataframe tbody tr th:only-of-type {\n",
              "        vertical-align: middle;\n",
              "    }\n",
              "\n",
              "    .dataframe tbody tr th {\n",
              "        vertical-align: top;\n",
              "    }\n",
              "\n",
              "    .dataframe thead th {\n",
              "        text-align: right;\n",
              "    }\n",
              "</style>\n",
              "<table border=\"1\" class=\"dataframe\">\n",
              "  <thead>\n",
              "    <tr style=\"text-align: right;\">\n",
              "      <th></th>\n",
              "      <th>SC_M1</th>\n",
              "      <th>SC_M2</th>\n",
              "      <th>SC_M3</th>\n",
              "      <th>SC_M4</th>\n",
              "      <th>SC_M5</th>\n",
              "      <th>SC_M6</th>\n",
              "      <th>SC_M7</th>\n",
              "      <th>SC_M8</th>\n",
              "      <th>SC_M9</th>\n",
              "      <th>SC_M10</th>\n",
              "      <th>SC_M11</th>\n",
              "      <th>SC_M12</th>\n",
              "      <th>SC_M13</th>\n",
              "      <th>SC_M14</th>\n",
              "      <th>SC_M15</th>\n",
              "    </tr>\n",
              "    <tr>\n",
              "      <th>Date</th>\n",
              "      <th></th>\n",
              "      <th></th>\n",
              "      <th></th>\n",
              "      <th></th>\n",
              "      <th></th>\n",
              "      <th></th>\n",
              "      <th></th>\n",
              "      <th></th>\n",
              "      <th></th>\n",
              "      <th></th>\n",
              "      <th></th>\n",
              "      <th></th>\n",
              "      <th></th>\n",
              "      <th></th>\n",
              "      <th></th>\n",
              "    </tr>\n",
              "  </thead>\n",
              "  <tbody>\n",
              "    <tr>\n",
              "      <th>2015-11-23</th>\n",
              "      <td>195.0</td>\n",
              "      <td>195.0</td>\n",
              "      <td>195.0</td>\n",
              "      <td>195.0</td>\n",
              "      <td>195.0</td>\n",
              "      <td>195.0</td>\n",
              "      <td>195.0</td>\n",
              "      <td>195.0</td>\n",
              "      <td>195.0</td>\n",
              "      <td>195.0</td>\n",
              "      <td>195.0</td>\n",
              "      <td>195.0</td>\n",
              "      <td>195.0</td>\n",
              "      <td>195.0</td>\n",
              "      <td>195.0</td>\n",
              "    </tr>\n",
              "    <tr>\n",
              "      <th>2015-11-24</th>\n",
              "      <td>195.0</td>\n",
              "      <td>195.0</td>\n",
              "      <td>195.0</td>\n",
              "      <td>195.0</td>\n",
              "      <td>195.0</td>\n",
              "      <td>195.0</td>\n",
              "      <td>195.0</td>\n",
              "      <td>195.0</td>\n",
              "      <td>195.0</td>\n",
              "      <td>195.0</td>\n",
              "      <td>195.0</td>\n",
              "      <td>195.0</td>\n",
              "      <td>195.0</td>\n",
              "      <td>195.0</td>\n",
              "      <td>195.0</td>\n",
              "    </tr>\n",
              "    <tr>\n",
              "      <th>2015-11-25</th>\n",
              "      <td>195.0</td>\n",
              "      <td>193.0</td>\n",
              "      <td>193.0</td>\n",
              "      <td>193.0</td>\n",
              "      <td>193.0</td>\n",
              "      <td>193.0</td>\n",
              "      <td>193.0</td>\n",
              "      <td>193.0</td>\n",
              "      <td>193.0</td>\n",
              "      <td>193.0</td>\n",
              "      <td>193.0</td>\n",
              "      <td>193.0</td>\n",
              "      <td>193.0</td>\n",
              "      <td>193.0</td>\n",
              "      <td>193.0</td>\n",
              "    </tr>\n",
              "    <tr>\n",
              "      <th>2015-11-26</th>\n",
              "      <td>192.0</td>\n",
              "      <td>193.0</td>\n",
              "      <td>193.0</td>\n",
              "      <td>193.0</td>\n",
              "      <td>193.0</td>\n",
              "      <td>193.0</td>\n",
              "      <td>193.0</td>\n",
              "      <td>193.0</td>\n",
              "      <td>193.0</td>\n",
              "      <td>193.0</td>\n",
              "      <td>193.0</td>\n",
              "      <td>193.0</td>\n",
              "      <td>193.0</td>\n",
              "      <td>193.0</td>\n",
              "      <td>193.0</td>\n",
              "    </tr>\n",
              "    <tr>\n",
              "      <th>2015-11-27</th>\n",
              "      <td>192.0</td>\n",
              "      <td>193.0</td>\n",
              "      <td>193.0</td>\n",
              "      <td>193.0</td>\n",
              "      <td>193.0</td>\n",
              "      <td>193.0</td>\n",
              "      <td>193.0</td>\n",
              "      <td>193.0</td>\n",
              "      <td>193.0</td>\n",
              "      <td>193.0</td>\n",
              "      <td>193.0</td>\n",
              "      <td>193.0</td>\n",
              "      <td>193.0</td>\n",
              "      <td>193.0</td>\n",
              "      <td>193.0</td>\n",
              "    </tr>\n",
              "  </tbody>\n",
              "</table>\n",
              "</div>"
            ],
            "text/plain": [
              "            SC_M1  SC_M2  SC_M3  SC_M4  ...  SC_M12  SC_M13  SC_M14  SC_M15\n",
              "Date                                    ...                                \n",
              "2015-11-23  195.0  195.0  195.0  195.0  ...   195.0   195.0   195.0   195.0\n",
              "2015-11-24  195.0  195.0  195.0  195.0  ...   195.0   195.0   195.0   195.0\n",
              "2015-11-25  195.0  193.0  193.0  193.0  ...   193.0   193.0   193.0   193.0\n",
              "2015-11-26  192.0  193.0  193.0  193.0  ...   193.0   193.0   193.0   193.0\n",
              "2015-11-27  192.0  193.0  193.0  193.0  ...   193.0   193.0   193.0   193.0\n",
              "\n",
              "[5 rows x 15 columns]"
            ]
          },
          "metadata": {
            "tags": []
          },
          "execution_count": 5
        }
      ]
    },
    {
      "cell_type": "code",
      "metadata": {
        "id": "FQE9fsOmUKdv",
        "colab_type": "code",
        "colab": {
          "base_uri": "https://localhost:8080/",
          "height": 330
        },
        "outputId": "c7d9d0a2-302b-497b-81d6-ff93f73059b6"
      },
      "source": [
        "p = PATH+'raw/CSF*.xlsx'\n",
        "\n",
        "excels = glob.glob(p)\n",
        "\n",
        "for xcel in excels:\n",
        "  d = pd.read_excel(xcel, parse_dates=True, decimal=',', thousands='.')\n",
        "  name = os.path.basename(xcel)[-8:-5].strip()\n",
        "  d[['HU']] = d[['HU']].apply(st_to_mt, axis=1)\n",
        "  # Cambiamos el nombre a la columna\n",
        "  d.drop(ignore, axis=1, inplace=True)\n",
        "  rest = [c for c in d.columns if c != 'Date']\n",
        "  d.rename(dict(zip(rest, [name+'_'+c for c in rest])), axis=1, inplace=True)\n",
        "\n",
        "  frames[name] = d\n",
        "\n",
        "dfs = [d.drop_duplicates().set_index(['Date']) for d in frames.values()]\n",
        "all_df = pd.concat(dfs, axis=1)\n",
        "\n",
        "all_df.head()"
      ],
      "execution_count": null,
      "outputs": [
        {
          "output_type": "execute_result",
          "data": {
            "text/html": [
              "<div>\n",
              "<style scoped>\n",
              "    .dataframe tbody tr th:only-of-type {\n",
              "        vertical-align: middle;\n",
              "    }\n",
              "\n",
              "    .dataframe tbody tr th {\n",
              "        vertical-align: top;\n",
              "    }\n",
              "\n",
              "    .dataframe thead th {\n",
              "        text-align: right;\n",
              "    }\n",
              "</style>\n",
              "<table border=\"1\" class=\"dataframe\">\n",
              "  <thead>\n",
              "    <tr style=\"text-align: right;\">\n",
              "      <th></th>\n",
              "      <th>SR_M1</th>\n",
              "      <th>SR_M2</th>\n",
              "      <th>SR_M3</th>\n",
              "      <th>SR_M4</th>\n",
              "      <th>SR_M5</th>\n",
              "      <th>SR_M6</th>\n",
              "      <th>SR_M7</th>\n",
              "      <th>SR_M8</th>\n",
              "      <th>SR_M9</th>\n",
              "      <th>SR_M10</th>\n",
              "      <th>SR_M11</th>\n",
              "      <th>SR_M12</th>\n",
              "      <th>SR_M13</th>\n",
              "      <th>SR_M14</th>\n",
              "      <th>SR_M15</th>\n",
              "      <th>SC_M1</th>\n",
              "      <th>SC_M2</th>\n",
              "      <th>SC_M3</th>\n",
              "      <th>SC_M4</th>\n",
              "      <th>SC_M5</th>\n",
              "      <th>SC_M6</th>\n",
              "      <th>SC_M7</th>\n",
              "      <th>SC_M8</th>\n",
              "      <th>SC_M9</th>\n",
              "      <th>SC_M10</th>\n",
              "      <th>SC_M11</th>\n",
              "      <th>SC_M12</th>\n",
              "      <th>SC_M13</th>\n",
              "      <th>SC_M14</th>\n",
              "      <th>SC_M15</th>\n",
              "      <th>TV_SC</th>\n",
              "      <th>TV_SR</th>\n",
              "      <th>EOI_SC</th>\n",
              "      <th>EOI_SR</th>\n",
              "    </tr>\n",
              "    <tr>\n",
              "      <th>Date</th>\n",
              "      <th></th>\n",
              "      <th></th>\n",
              "      <th></th>\n",
              "      <th></th>\n",
              "      <th></th>\n",
              "      <th></th>\n",
              "      <th></th>\n",
              "      <th></th>\n",
              "      <th></th>\n",
              "      <th></th>\n",
              "      <th></th>\n",
              "      <th></th>\n",
              "      <th></th>\n",
              "      <th></th>\n",
              "      <th></th>\n",
              "      <th></th>\n",
              "      <th></th>\n",
              "      <th></th>\n",
              "      <th></th>\n",
              "      <th></th>\n",
              "      <th></th>\n",
              "      <th></th>\n",
              "      <th></th>\n",
              "      <th></th>\n",
              "      <th></th>\n",
              "      <th></th>\n",
              "      <th></th>\n",
              "      <th></th>\n",
              "      <th></th>\n",
              "      <th></th>\n",
              "      <th></th>\n",
              "      <th></th>\n",
              "      <th></th>\n",
              "      <th></th>\n",
              "    </tr>\n",
              "  </thead>\n",
              "  <tbody>\n",
              "    <tr>\n",
              "      <th>2015-11-23</th>\n",
              "      <td>338.0</td>\n",
              "      <td>333.5</td>\n",
              "      <td>333.5</td>\n",
              "      <td>333.5</td>\n",
              "      <td>333.5</td>\n",
              "      <td>333.5</td>\n",
              "      <td>333.5</td>\n",
              "      <td>333.5</td>\n",
              "      <td>333.5</td>\n",
              "      <td>333.5</td>\n",
              "      <td>333.5</td>\n",
              "      <td>333.5</td>\n",
              "      <td>333.5</td>\n",
              "      <td>333.5</td>\n",
              "      <td>333.5</td>\n",
              "      <td>195.0</td>\n",
              "      <td>195.0</td>\n",
              "      <td>195.0</td>\n",
              "      <td>195.0</td>\n",
              "      <td>195.0</td>\n",
              "      <td>195.0</td>\n",
              "      <td>195.0</td>\n",
              "      <td>195.0</td>\n",
              "      <td>195.0</td>\n",
              "      <td>195.0</td>\n",
              "      <td>195.0</td>\n",
              "      <td>195.0</td>\n",
              "      <td>195.0</td>\n",
              "      <td>195.0</td>\n",
              "      <td>195.0</td>\n",
              "      <td>NaN</td>\n",
              "      <td>NaN</td>\n",
              "      <td>NaN</td>\n",
              "      <td>NaN</td>\n",
              "    </tr>\n",
              "    <tr>\n",
              "      <th>2015-11-24</th>\n",
              "      <td>337.0</td>\n",
              "      <td>335.0</td>\n",
              "      <td>335.0</td>\n",
              "      <td>335.0</td>\n",
              "      <td>335.0</td>\n",
              "      <td>335.0</td>\n",
              "      <td>335.0</td>\n",
              "      <td>335.0</td>\n",
              "      <td>335.0</td>\n",
              "      <td>335.0</td>\n",
              "      <td>335.0</td>\n",
              "      <td>335.0</td>\n",
              "      <td>335.0</td>\n",
              "      <td>335.0</td>\n",
              "      <td>335.0</td>\n",
              "      <td>195.0</td>\n",
              "      <td>195.0</td>\n",
              "      <td>195.0</td>\n",
              "      <td>195.0</td>\n",
              "      <td>195.0</td>\n",
              "      <td>195.0</td>\n",
              "      <td>195.0</td>\n",
              "      <td>195.0</td>\n",
              "      <td>195.0</td>\n",
              "      <td>195.0</td>\n",
              "      <td>195.0</td>\n",
              "      <td>195.0</td>\n",
              "      <td>195.0</td>\n",
              "      <td>195.0</td>\n",
              "      <td>195.0</td>\n",
              "      <td>NaN</td>\n",
              "      <td>NaN</td>\n",
              "      <td>NaN</td>\n",
              "      <td>NaN</td>\n",
              "    </tr>\n",
              "    <tr>\n",
              "      <th>2015-11-25</th>\n",
              "      <td>335.0</td>\n",
              "      <td>335.0</td>\n",
              "      <td>335.0</td>\n",
              "      <td>335.0</td>\n",
              "      <td>335.0</td>\n",
              "      <td>335.0</td>\n",
              "      <td>335.0</td>\n",
              "      <td>335.0</td>\n",
              "      <td>335.0</td>\n",
              "      <td>335.0</td>\n",
              "      <td>335.0</td>\n",
              "      <td>335.0</td>\n",
              "      <td>335.0</td>\n",
              "      <td>335.0</td>\n",
              "      <td>335.0</td>\n",
              "      <td>195.0</td>\n",
              "      <td>193.0</td>\n",
              "      <td>193.0</td>\n",
              "      <td>193.0</td>\n",
              "      <td>193.0</td>\n",
              "      <td>193.0</td>\n",
              "      <td>193.0</td>\n",
              "      <td>193.0</td>\n",
              "      <td>193.0</td>\n",
              "      <td>193.0</td>\n",
              "      <td>193.0</td>\n",
              "      <td>193.0</td>\n",
              "      <td>193.0</td>\n",
              "      <td>193.0</td>\n",
              "      <td>193.0</td>\n",
              "      <td>NaN</td>\n",
              "      <td>NaN</td>\n",
              "      <td>NaN</td>\n",
              "      <td>NaN</td>\n",
              "    </tr>\n",
              "    <tr>\n",
              "      <th>2015-11-26</th>\n",
              "      <td>334.0</td>\n",
              "      <td>335.0</td>\n",
              "      <td>335.0</td>\n",
              "      <td>335.0</td>\n",
              "      <td>335.0</td>\n",
              "      <td>335.0</td>\n",
              "      <td>335.0</td>\n",
              "      <td>335.0</td>\n",
              "      <td>335.0</td>\n",
              "      <td>335.0</td>\n",
              "      <td>335.0</td>\n",
              "      <td>335.0</td>\n",
              "      <td>335.0</td>\n",
              "      <td>335.0</td>\n",
              "      <td>335.0</td>\n",
              "      <td>192.0</td>\n",
              "      <td>193.0</td>\n",
              "      <td>193.0</td>\n",
              "      <td>193.0</td>\n",
              "      <td>193.0</td>\n",
              "      <td>193.0</td>\n",
              "      <td>193.0</td>\n",
              "      <td>193.0</td>\n",
              "      <td>193.0</td>\n",
              "      <td>193.0</td>\n",
              "      <td>193.0</td>\n",
              "      <td>193.0</td>\n",
              "      <td>193.0</td>\n",
              "      <td>193.0</td>\n",
              "      <td>193.0</td>\n",
              "      <td>NaN</td>\n",
              "      <td>NaN</td>\n",
              "      <td>NaN</td>\n",
              "      <td>NaN</td>\n",
              "    </tr>\n",
              "    <tr>\n",
              "      <th>2015-11-27</th>\n",
              "      <td>334.0</td>\n",
              "      <td>335.0</td>\n",
              "      <td>335.0</td>\n",
              "      <td>335.0</td>\n",
              "      <td>335.0</td>\n",
              "      <td>335.0</td>\n",
              "      <td>335.0</td>\n",
              "      <td>335.0</td>\n",
              "      <td>335.0</td>\n",
              "      <td>335.0</td>\n",
              "      <td>335.0</td>\n",
              "      <td>335.0</td>\n",
              "      <td>335.0</td>\n",
              "      <td>335.0</td>\n",
              "      <td>335.0</td>\n",
              "      <td>192.0</td>\n",
              "      <td>193.0</td>\n",
              "      <td>193.0</td>\n",
              "      <td>193.0</td>\n",
              "      <td>193.0</td>\n",
              "      <td>193.0</td>\n",
              "      <td>193.0</td>\n",
              "      <td>193.0</td>\n",
              "      <td>193.0</td>\n",
              "      <td>193.0</td>\n",
              "      <td>193.0</td>\n",
              "      <td>193.0</td>\n",
              "      <td>193.0</td>\n",
              "      <td>193.0</td>\n",
              "      <td>193.0</td>\n",
              "      <td>NaN</td>\n",
              "      <td>NaN</td>\n",
              "      <td>NaN</td>\n",
              "      <td>NaN</td>\n",
              "    </tr>\n",
              "  </tbody>\n",
              "</table>\n",
              "</div>"
            ],
            "text/plain": [
              "            SR_M1  SR_M2  SR_M3  SR_M4  ...  TV_SC  TV_SR  EOI_SC  EOI_SR\n",
              "Date                                    ...                              \n",
              "2015-11-23  338.0  333.5  333.5  333.5  ...    NaN    NaN     NaN     NaN\n",
              "2015-11-24  337.0  335.0  335.0  335.0  ...    NaN    NaN     NaN     NaN\n",
              "2015-11-25  335.0  335.0  335.0  335.0  ...    NaN    NaN     NaN     NaN\n",
              "2015-11-26  334.0  335.0  335.0  335.0  ...    NaN    NaN     NaN     NaN\n",
              "2015-11-27  334.0  335.0  335.0  335.0  ...    NaN    NaN     NaN     NaN\n",
              "\n",
              "[5 rows x 34 columns]"
            ]
          },
          "metadata": {
            "tags": []
          },
          "execution_count": 7
        }
      ]
    },
    {
      "cell_type": "code",
      "metadata": {
        "id": "JdZZDOI37Tfx",
        "colab_type": "code",
        "colab": {}
      },
      "source": [
        "all_df = price_df"
      ],
      "execution_count": 6,
      "outputs": []
    },
    {
      "cell_type": "code",
      "metadata": {
        "id": "Gnb1Uxu2oZHm",
        "colab_type": "code",
        "colab": {
          "base_uri": "https://localhost:8080/",
          "height": 33
        },
        "outputId": "f76d0a40-6fa1-4b6c-c359-46c05348ca69"
      },
      "source": [
        "# Contamos los valores nulos del dataset -> 0\n",
        "all_df.isnull().sum().sum()"
      ],
      "execution_count": 7,
      "outputs": [
        {
          "output_type": "execute_result",
          "data": {
            "text/plain": [
              "0"
            ]
          },
          "metadata": {
            "tags": []
          },
          "execution_count": 7
        }
      ]
    },
    {
      "cell_type": "code",
      "metadata": {
        "id": "juVn3cFmNUnh",
        "colab_type": "code",
        "colab": {
          "base_uri": "https://localhost:8080/",
          "height": 50
        },
        "outputId": "520af497-c4b4-4755-a910-bc4f9be112bc"
      },
      "source": [
        "# por ahora eliminamos los nulos\n",
        "all_df = all_df.dropna()\n",
        "print(all_df.shape)\n",
        "# Cuando empezamos a tener todos los valores\n",
        "all_df.index[0]"
      ],
      "execution_count": 8,
      "outputs": [
        {
          "output_type": "stream",
          "text": [
            "(1125, 15)\n"
          ],
          "name": "stdout"
        },
        {
          "output_type": "execute_result",
          "data": {
            "text/plain": [
              "Timestamp('2015-11-23 00:00:00')"
            ]
          },
          "metadata": {
            "tags": []
          },
          "execution_count": 8
        }
      ]
    },
    {
      "cell_type": "code",
      "metadata": {
        "id": "dSsStJErnBTb",
        "colab_type": "code",
        "colab": {
          "base_uri": "https://localhost:8080/",
          "height": 226
        },
        "outputId": "99f31f2e-ab5d-461d-893e-1a0c1ff917c2"
      },
      "source": [
        "all_df.head()"
      ],
      "execution_count": 9,
      "outputs": [
        {
          "output_type": "execute_result",
          "data": {
            "text/html": [
              "<div>\n",
              "<style scoped>\n",
              "    .dataframe tbody tr th:only-of-type {\n",
              "        vertical-align: middle;\n",
              "    }\n",
              "\n",
              "    .dataframe tbody tr th {\n",
              "        vertical-align: top;\n",
              "    }\n",
              "\n",
              "    .dataframe thead th {\n",
              "        text-align: right;\n",
              "    }\n",
              "</style>\n",
              "<table border=\"1\" class=\"dataframe\">\n",
              "  <thead>\n",
              "    <tr style=\"text-align: right;\">\n",
              "      <th></th>\n",
              "      <th>SC_M1</th>\n",
              "      <th>SC_M2</th>\n",
              "      <th>SC_M3</th>\n",
              "      <th>SC_M4</th>\n",
              "      <th>SC_M5</th>\n",
              "      <th>SC_M6</th>\n",
              "      <th>SC_M7</th>\n",
              "      <th>SC_M8</th>\n",
              "      <th>SC_M9</th>\n",
              "      <th>SC_M10</th>\n",
              "      <th>SC_M11</th>\n",
              "      <th>SC_M12</th>\n",
              "      <th>SC_M13</th>\n",
              "      <th>SC_M14</th>\n",
              "      <th>SC_M15</th>\n",
              "    </tr>\n",
              "    <tr>\n",
              "      <th>Date</th>\n",
              "      <th></th>\n",
              "      <th></th>\n",
              "      <th></th>\n",
              "      <th></th>\n",
              "      <th></th>\n",
              "      <th></th>\n",
              "      <th></th>\n",
              "      <th></th>\n",
              "      <th></th>\n",
              "      <th></th>\n",
              "      <th></th>\n",
              "      <th></th>\n",
              "      <th></th>\n",
              "      <th></th>\n",
              "      <th></th>\n",
              "    </tr>\n",
              "  </thead>\n",
              "  <tbody>\n",
              "    <tr>\n",
              "      <th>2015-11-23</th>\n",
              "      <td>195.0</td>\n",
              "      <td>195.0</td>\n",
              "      <td>195.0</td>\n",
              "      <td>195.0</td>\n",
              "      <td>195.0</td>\n",
              "      <td>195.0</td>\n",
              "      <td>195.0</td>\n",
              "      <td>195.0</td>\n",
              "      <td>195.0</td>\n",
              "      <td>195.0</td>\n",
              "      <td>195.0</td>\n",
              "      <td>195.0</td>\n",
              "      <td>195.0</td>\n",
              "      <td>195.0</td>\n",
              "      <td>195.0</td>\n",
              "    </tr>\n",
              "    <tr>\n",
              "      <th>2015-11-24</th>\n",
              "      <td>195.0</td>\n",
              "      <td>195.0</td>\n",
              "      <td>195.0</td>\n",
              "      <td>195.0</td>\n",
              "      <td>195.0</td>\n",
              "      <td>195.0</td>\n",
              "      <td>195.0</td>\n",
              "      <td>195.0</td>\n",
              "      <td>195.0</td>\n",
              "      <td>195.0</td>\n",
              "      <td>195.0</td>\n",
              "      <td>195.0</td>\n",
              "      <td>195.0</td>\n",
              "      <td>195.0</td>\n",
              "      <td>195.0</td>\n",
              "    </tr>\n",
              "    <tr>\n",
              "      <th>2015-11-25</th>\n",
              "      <td>195.0</td>\n",
              "      <td>193.0</td>\n",
              "      <td>193.0</td>\n",
              "      <td>193.0</td>\n",
              "      <td>193.0</td>\n",
              "      <td>193.0</td>\n",
              "      <td>193.0</td>\n",
              "      <td>193.0</td>\n",
              "      <td>193.0</td>\n",
              "      <td>193.0</td>\n",
              "      <td>193.0</td>\n",
              "      <td>193.0</td>\n",
              "      <td>193.0</td>\n",
              "      <td>193.0</td>\n",
              "      <td>193.0</td>\n",
              "    </tr>\n",
              "    <tr>\n",
              "      <th>2015-11-26</th>\n",
              "      <td>192.0</td>\n",
              "      <td>193.0</td>\n",
              "      <td>193.0</td>\n",
              "      <td>193.0</td>\n",
              "      <td>193.0</td>\n",
              "      <td>193.0</td>\n",
              "      <td>193.0</td>\n",
              "      <td>193.0</td>\n",
              "      <td>193.0</td>\n",
              "      <td>193.0</td>\n",
              "      <td>193.0</td>\n",
              "      <td>193.0</td>\n",
              "      <td>193.0</td>\n",
              "      <td>193.0</td>\n",
              "      <td>193.0</td>\n",
              "    </tr>\n",
              "    <tr>\n",
              "      <th>2015-11-27</th>\n",
              "      <td>192.0</td>\n",
              "      <td>193.0</td>\n",
              "      <td>193.0</td>\n",
              "      <td>193.0</td>\n",
              "      <td>193.0</td>\n",
              "      <td>193.0</td>\n",
              "      <td>193.0</td>\n",
              "      <td>193.0</td>\n",
              "      <td>193.0</td>\n",
              "      <td>193.0</td>\n",
              "      <td>193.0</td>\n",
              "      <td>193.0</td>\n",
              "      <td>193.0</td>\n",
              "      <td>193.0</td>\n",
              "      <td>193.0</td>\n",
              "    </tr>\n",
              "  </tbody>\n",
              "</table>\n",
              "</div>"
            ],
            "text/plain": [
              "            SC_M1  SC_M2  SC_M3  SC_M4  ...  SC_M12  SC_M13  SC_M14  SC_M15\n",
              "Date                                    ...                                \n",
              "2015-11-23  195.0  195.0  195.0  195.0  ...   195.0   195.0   195.0   195.0\n",
              "2015-11-24  195.0  195.0  195.0  195.0  ...   195.0   195.0   195.0   195.0\n",
              "2015-11-25  195.0  193.0  193.0  193.0  ...   193.0   193.0   193.0   193.0\n",
              "2015-11-26  192.0  193.0  193.0  193.0  ...   193.0   193.0   193.0   193.0\n",
              "2015-11-27  192.0  193.0  193.0  193.0  ...   193.0   193.0   193.0   193.0\n",
              "\n",
              "[5 rows x 15 columns]"
            ]
          },
          "metadata": {
            "tags": []
          },
          "execution_count": 9
        }
      ]
    },
    {
      "cell_type": "markdown",
      "metadata": {
        "id": "Yq7gs5WB7VHn",
        "colab_type": "text"
      },
      "source": [
        "# Data visualization"
      ]
    },
    {
      "cell_type": "code",
      "metadata": {
        "id": "_qQG8HMpSnMf",
        "colab_type": "code",
        "colab": {
          "base_uri": "https://localhost:8080/",
          "height": 506
        },
        "outputId": "5064861e-b2b6-47be-b3f9-4e841bbc048e"
      },
      "source": [
        "fig, ax = subplots()\n",
        "price_df.plot(figsize=(15,8), ax=ax)\n",
        "ax.legend([]);"
      ],
      "execution_count": 10,
      "outputs": [
        {
          "output_type": "display_data",
          "data": {
            "image/png": "[encoded data removed]",
            "text/plain": [
              "<Figure size 1080x576 with 1 Axes>"
            ]
          },
          "metadata": {
            "tags": [],
            "needs_background": "light"
          }
        }
      ]
    },
    {
      "cell_type": "code",
      "metadata": {
        "id": "B4FcU8lVzoak",
        "colab_type": "code",
        "colab": {
          "base_uri": "https://localhost:8080/",
          "height": 523
        },
        "outputId": "034c5168-7801-4f19-c298-2197a8406b36"
      },
      "source": [
        "price_df[['SC_M1']].plot(figsize=(15,8))"
      ],
      "execution_count": 11,
      "outputs": [
        {
          "output_type": "execute_result",
          "data": {
            "text/plain": [
              "<matplotlib.axes._subplots.AxesSubplot at 0x7f28cf05f710>"
            ]
          },
          "metadata": {
            "tags": []
          },
          "execution_count": 11
        },
        {
          "output_type": "display_data",
          "data": {
            "image/png": "[encoded data removed]",
            "text/plain": [
              "<Figure size 1080x576 with 1 Axes>"
            ]
          },
          "metadata": {
            "tags": [],
            "needs_background": "light"
          }
        }
      ]
    },
    {
      "cell_type": "markdown",
      "metadata": {
        "id": "r6ADiuQ_31KP",
        "colab_type": "text"
      },
      "source": [
        "# Model"
      ]
    },
    {
      "cell_type": "code",
      "metadata": {
        "id": "muT5vRH030kw",
        "colab_type": "code",
        "colab": {}
      },
      "source": [
        "to_predict = 'SC_M1'\n",
        "data = all_df.reset_index().copy()"
      ],
      "execution_count": 12,
      "outputs": []
    },
    {
      "cell_type": "code",
      "metadata": {
        "id": "0NIIdXlGbxuk",
        "colab_type": "code",
        "colab": {}
      },
      "source": [
        "def add_caps(d1, d2=None, c='y'):\n",
        "  if d2 is None:\n",
        "    d2 = d1\n",
        "  d2['cap'] = d1[c].max()\n",
        "  d2['floor'] = d1[c].min()\n",
        "  return d2"
      ],
      "execution_count": 13,
      "outputs": []
    },
    {
      "cell_type": "code",
      "metadata": {
        "id": "5SIKNPbBUu67",
        "colab_type": "code",
        "colab": {}
      },
      "source": [
        "from collections import defaultdict\n",
        "\n",
        "def simplify_df(dff):\n",
        "  dff = dff.copy()\n",
        "  \n",
        "  print(dff.columns)\n",
        "  exclude = ['Date', 'TV', 'EOI']\n",
        "  cols = [c for c in dff.columns if all([x not in c for x in exclude])]\n",
        "  firsts = [c for c in cols if '1' in c and len(c) <= 5]\n",
        "  others = [c for c in cols if c not in firsts]\n",
        "\n",
        "  d = defaultdict(list)\n",
        "  for o in others:\n",
        "    k = [f for f in firsts if f[:2] == o[:2]][0]\n",
        "    d[k].append(o)\n",
        "  d = dict(d)\n",
        "  \n",
        "  new_df = dff.copy()\n",
        "  count = 0\n",
        "  for r in dff.itertuples():\n",
        "    for k, vs in d.items():\n",
        "      for v in vs:\n",
        "        next_row = r.Date + pd.DateOffset(months=int(v[4:])-1)\n",
        "        new_val = new_df.loc[new_df.Date == r.Date, v].values[0]\n",
        "        #print(v, next_row, r.Date, int(v[4:]))\n",
        "\n",
        "        if next_row not in pd.to_datetime(new_df.Date.values):\n",
        "          #print(next_row, 'no estaba')\n",
        "          new_df = new_df.append({'Date': next_row}, ignore_index=True)\n",
        "          \n",
        "        # si no es nan, hacer media. o que tenga mas importancia el valor rea\n",
        "        vals = new_df.loc[new_df.Date == next_row, k]\n",
        "        #print(vals)\n",
        "        #if any(m == np.NaN for m in vals) or len(vals) == 0:\n",
        "        if new_df.loc[new_df.Date == next_row, k].isnull().any():\n",
        "          #print(next_row, '-> set directo:', new_val)\n",
        "          new_df.loc[new_df.Date == next_row, k] = new_val\n",
        "        else:\n",
        "          l = [new_df.loc[new_df.Date == next_row, k], new_val]\n",
        "          new_df.loc[new_df.Date == next_row, k] = sum(l)/len(l)\n",
        "\n",
        "  new_df.drop(others, axis=1, inplace=True)\n",
        "  new_df.sort_values(by='Date', inplace=True)\n",
        "  return new_df.drop_duplicates()"
      ],
      "execution_count": 14,
      "outputs": []
    },
    {
      "cell_type": "code",
      "metadata": {
        "id": "ZYLpFeCMXhi3",
        "colab_type": "code",
        "colab": {
          "base_uri": "https://localhost:8080/",
          "height": 263
        },
        "outputId": "e47b6a05-74e4-4f08-d5ee-9c8088a8bcfb"
      },
      "source": [
        "simp_df = simplify_df(data)\n",
        "simp_df.head()"
      ],
      "execution_count": 15,
      "outputs": [
        {
          "output_type": "stream",
          "text": [
            "Index(['Date', 'SC_M1', 'SC_M2', 'SC_M3', 'SC_M4', 'SC_M5', 'SC_M6', 'SC_M7',\n",
            "       'SC_M8', 'SC_M9', 'SC_M10', 'SC_M11', 'SC_M12', 'SC_M13', 'SC_M14',\n",
            "       'SC_M15'],\n",
            "      dtype='object')\n"
          ],
          "name": "stdout"
        },
        {
          "output_type": "execute_result",
          "data": {
            "text/html": [
              "<div>\n",
              "<style scoped>\n",
              "    .dataframe tbody tr th:only-of-type {\n",
              "        vertical-align: middle;\n",
              "    }\n",
              "\n",
              "    .dataframe tbody tr th {\n",
              "        vertical-align: top;\n",
              "    }\n",
              "\n",
              "    .dataframe thead th {\n",
              "        text-align: right;\n",
              "    }\n",
              "</style>\n",
              "<table border=\"1\" class=\"dataframe\">\n",
              "  <thead>\n",
              "    <tr style=\"text-align: right;\">\n",
              "      <th></th>\n",
              "      <th>Date</th>\n",
              "      <th>SC_M1</th>\n",
              "    </tr>\n",
              "  </thead>\n",
              "  <tbody>\n",
              "    <tr>\n",
              "      <th>0</th>\n",
              "      <td>2015-11-23</td>\n",
              "      <td>195.0</td>\n",
              "    </tr>\n",
              "    <tr>\n",
              "      <th>1</th>\n",
              "      <td>2015-11-24</td>\n",
              "      <td>195.0</td>\n",
              "    </tr>\n",
              "    <tr>\n",
              "      <th>2</th>\n",
              "      <td>2015-11-25</td>\n",
              "      <td>195.0</td>\n",
              "    </tr>\n",
              "    <tr>\n",
              "      <th>3</th>\n",
              "      <td>2015-11-26</td>\n",
              "      <td>192.0</td>\n",
              "    </tr>\n",
              "    <tr>\n",
              "      <th>4</th>\n",
              "      <td>2015-11-27</td>\n",
              "      <td>192.0</td>\n",
              "    </tr>\n",
              "  </tbody>\n",
              "</table>\n",
              "</div>"
            ],
            "text/plain": [
              "        Date  SC_M1\n",
              "0 2015-11-23  195.0\n",
              "1 2015-11-24  195.0\n",
              "2 2015-11-25  195.0\n",
              "3 2015-11-26  192.0\n",
              "4 2015-11-27  192.0"
            ]
          },
          "metadata": {
            "tags": []
          },
          "execution_count": 15
        }
      ]
    },
    {
      "cell_type": "code",
      "metadata": {
        "id": "_r1sdGj8X7-U",
        "colab_type": "code",
        "colab": {
          "base_uri": "https://localhost:8080/",
          "height": 84
        },
        "outputId": "9b3c98ef-56fa-4eb9-de6d-4b6114708ad7"
      },
      "source": [
        "print(simp_df.shape)\n",
        "simp_df.isnull().sum()"
      ],
      "execution_count": 16,
      "outputs": [
        {
          "output_type": "stream",
          "text": [
            "(2033, 2)\n"
          ],
          "name": "stdout"
        },
        {
          "output_type": "execute_result",
          "data": {
            "text/plain": [
              "Date     0\n",
              "SC_M1    0\n",
              "dtype: int64"
            ]
          },
          "metadata": {
            "tags": []
          },
          "execution_count": 16
        }
      ]
    },
    {
      "cell_type": "code",
      "metadata": {
        "id": "svUvR7JmDPbU",
        "colab_type": "code",
        "colab": {}
      },
      "source": [
        "def get_features(dff):\n",
        "  dff = dff.copy()\n",
        "\n",
        "  others = [c for c in dff.columns if c not in ['Date', to_predict]]\n",
        "  dff.rename({'Date': 'ds', to_predict: 'y'}, axis=1, inplace=True)\n",
        "  dff.set_index(dff.ds, inplace=True)\n",
        "\n",
        "  dff = add_caps(dff)\n",
        "  dff['day'] = (dff.index - dff.index[0]).days\n",
        "  X = dff[['day']]\n",
        "  y = dff[['y']]\n",
        "  \n",
        "  return X, y"
      ],
      "execution_count": 103,
      "outputs": []
    },
    {
      "cell_type": "code",
      "metadata": {
        "id": "KSOpcLGm_zcc",
        "colab_type": "code",
        "colab": {
          "base_uri": "https://localhost:8080/",
          "height": 134
        },
        "outputId": "b3311a87-d053-42b8-924d-6058f8959917"
      },
      "source": [
        "X, y = get_features(simp_df)\n",
        "X_train, X_test, y_train, y_test = train_test_split(X, y)"
      ],
      "execution_count": 104,
      "outputs": [
        {
          "output_type": "stream",
          "text": [
            "            day\n",
            "ds             \n",
            "2015-11-23    0\n",
            "2015-11-24    1\n",
            "2015-11-25    2\n",
            "2015-11-26    3\n",
            "2015-11-27    4\n"
          ],
          "name": "stdout"
        }
      ]
    },
    {
      "cell_type": "code",
      "metadata": {
        "id": "UUsUdJ2XI7gy",
        "colab_type": "code",
        "colab": {}
      },
      "source": [
        "from sklearn.preprocessing import PolynomialFeatures\n",
        "deg = 5\n",
        "poly = PolynomialFeatures(degree=deg)\n",
        "X_train_poly = poly.fit_transform(X_train)"
      ],
      "execution_count": 156,
      "outputs": []
    },
    {
      "cell_type": "code",
      "metadata": {
        "id": "uaTOEYsgJS8b",
        "colab_type": "code",
        "colab": {
          "base_uri": "https://localhost:8080/",
          "height": 67
        },
        "outputId": "52c6ae2c-5a22-4402-b76e-69815b2d8b10"
      },
      "source": [
        "clf = LinearRegression()\n",
        "train_y_ = clf.fit(X_train_poly, y_train)\n",
        "# The coefficients\n",
        "print ('Coefficients: ', clf.coef_)\n",
        "print ('Intercept: ',clf.intercept_)"
      ],
      "execution_count": 157,
      "outputs": [
        {
          "output_type": "stream",
          "text": [
            "Coefficients:  [[ 0.00000000e+00 -1.32575470e-01  1.17171917e-03 -1.49158653e-06\n",
            "   6.97035776e-10 -1.11743947e-13]]\n",
            "Intercept:  [196.96943189]\n"
          ],
          "name": "stdout"
        }
      ]
    },
    {
      "cell_type": "code",
      "metadata": {
        "id": "gNds3X6tJaXR",
        "colab_type": "code",
        "colab": {
          "base_uri": "https://localhost:8080/",
          "height": 593
        },
        "outputId": "85d3c4e1-45e4-4042-b5bd-4eb5f2c88f38"
      },
      "source": [
        "plt.scatter(X_train, y_train,  color='blue')\n",
        "XX = np.arange(0.0, max(X_train.day), 0.1)\n",
        "yy = clf.intercept_[0]+ clf.coef_[0][1]*XX+ clf.coef_[0][2]*np.power(XX, deg)\n",
        "plt.plot(XX, yy, '-r' )\n",
        "plt.xlabel(\"Days\")\n",
        "plt.ylabel(\"Price\")"
      ],
      "execution_count": 158,
      "outputs": [
        {
          "output_type": "execute_result",
          "data": {
            "text/plain": [
              "Text(0, 0.5, 'Price')"
            ]
          },
          "metadata": {
            "tags": []
          },
          "execution_count": 158
        },
        {
          "output_type": "display_data",
          "data": {
            "image/png": "[encoded data removed]",
            "text/plain": [
              "<Figure size 921.6x633.6 with 1 Axes>"
            ]
          },
          "metadata": {
            "tags": [],
            "needs_background": "light"
          }
        }
      ]
    },
    {
      "cell_type": "code",
      "metadata": {
        "id": "YfRCFmi4Ja5I",
        "colab_type": "code",
        "colab": {
          "base_uri": "https://localhost:8080/",
          "height": 67
        },
        "outputId": "e4075107-80b0-4601-c2aa-c15ac9794df6"
      },
      "source": [
        "from sklearn.metrics import r2_score\n",
        "\n",
        "test_x_poly = poly.fit_transform(X_test)\n",
        "test_y_ = clf.predict(test_x_poly)\n",
        "\n",
        "print(\"Mean absolute error: %.2f\" % np.mean(np.absolute(test_y_ - y_test)))\n",
        "print(\"Residual sum of squares (MSE): %.2f\" % np.mean((test_y_ - y_test) ** 2))\n",
        "print('Accuracy: {:.2f}%'.format(r2_score(test_y_, y_test)*100))"
      ],
      "execution_count": 159,
      "outputs": [
        {
          "output_type": "stream",
          "text": [
            "Mean absolute error: 10.57\n",
            "Residual sum of squares (MSE): 183.88\n",
            "Accuracy: 88.95%\n"
          ],
          "name": "stdout"
        }
      ]
    },
    {
      "cell_type": "markdown",
      "metadata": {
        "id": "HhmnrlZxJZfR",
        "colab_type": "text"
      },
      "source": [
        "##fekd"
      ]
    },
    {
      "cell_type": "code",
      "metadata": {
        "id": "XUO0aYjE9h46",
        "colab_type": "code",
        "colab": {
          "base_uri": "https://localhost:8080/",
          "height": 70
        },
        "outputId": "deca3708-e6eb-4206-c210-71d24cd08c10"
      },
      "source": [
        "model.fit(X_train, y_train)\n",
        "forecast = model.predict(X_test)\n",
        "#fig = model.plot(forecast)"
      ],
      "execution_count": 119,
      "outputs": [
        {
          "output_type": "stream",
          "text": [
            "/usr/local/lib/python3.6/dist-packages/ipykernel_launcher.py:1: DataConversionWarning: A column-vector y was passed when a 1d array was expected. Please change the shape of y to (n_samples,), for example using ravel().\n",
            "  \"\"\"Entry point for launching an IPython kernel.\n"
          ],
          "name": "stderr"
        }
      ]
    },
    {
      "cell_type": "code",
      "metadata": {
        "id": "e8QmXCqe4INb",
        "colab_type": "code",
        "colab": {
          "base_uri": "https://localhost:8080/",
          "height": 33
        },
        "outputId": "c35b490d-3fdd-4b32-8337-db2262825695"
      },
      "source": [
        "print('Accuracy: {:.2f}%'.format(r2_score(forecast, y_test)*100))"
      ],
      "execution_count": 121,
      "outputs": [
        {
          "output_type": "stream",
          "text": [
            "Accuracy: 95.83%\n"
          ],
          "name": "stdout"
        }
      ]
    },
    {
      "cell_type": "markdown",
      "metadata": {
        "id": "iErQ2XVpceWh",
        "colab_type": "text"
      },
      "source": [
        "# Predict Future [EN PROCESO]"
      ]
    },
    {
      "cell_type": "code",
      "metadata": {
        "id": "LaDEgTIp4ajE",
        "colab_type": "code",
        "colab": {}
      },
      "source": [
        "# 3 more months from end of data\n",
        "future = model.make_future_dataframe(periods=90, freq='d', include_history=False)\n",
        "future = df_pred.append(future)\n",
        "future = add_caps(df_pred, future)"
      ],
      "execution_count": null,
      "outputs": []
    },
    {
      "cell_type": "code",
      "metadata": {
        "id": "vAMUOgBtnl12",
        "colab_type": "code",
        "colab": {
          "base_uri": "https://localhost:8080/",
          "height": 196
        },
        "outputId": "5db4d7c9-e754-4c0d-c60d-d543b9e3f32d"
      },
      "source": [
        "future.tail()"
      ],
      "execution_count": null,
      "outputs": [
        {
          "output_type": "execute_result",
          "data": {
            "text/html": [
              "<div>\n",
              "<style scoped>\n",
              "    .dataframe tbody tr th:only-of-type {\n",
              "        vertical-align: middle;\n",
              "    }\n",
              "\n",
              "    .dataframe tbody tr th {\n",
              "        vertical-align: top;\n",
              "    }\n",
              "\n",
              "    .dataframe thead th {\n",
              "        text-align: right;\n",
              "    }\n",
              "</style>\n",
              "<table border=\"1\" class=\"dataframe\">\n",
              "  <thead>\n",
              "    <tr style=\"text-align: right;\">\n",
              "      <th></th>\n",
              "      <th>ds</th>\n",
              "      <th>y</th>\n",
              "      <th>SR_M1</th>\n",
              "      <th>cap</th>\n",
              "      <th>floor</th>\n",
              "    </tr>\n",
              "  </thead>\n",
              "  <tbody>\n",
              "    <tr>\n",
              "      <th>85</th>\n",
              "      <td>2020-07-25</td>\n",
              "      <td>NaN</td>\n",
              "      <td>NaN</td>\n",
              "      <td>369.78125</td>\n",
              "      <td>230.5</td>\n",
              "    </tr>\n",
              "    <tr>\n",
              "      <th>86</th>\n",
              "      <td>2020-07-26</td>\n",
              "      <td>NaN</td>\n",
              "      <td>NaN</td>\n",
              "      <td>369.78125</td>\n",
              "      <td>230.5</td>\n",
              "    </tr>\n",
              "    <tr>\n",
              "      <th>87</th>\n",
              "      <td>2020-07-27</td>\n",
              "      <td>NaN</td>\n",
              "      <td>NaN</td>\n",
              "      <td>369.78125</td>\n",
              "      <td>230.5</td>\n",
              "    </tr>\n",
              "    <tr>\n",
              "      <th>88</th>\n",
              "      <td>2020-07-28</td>\n",
              "      <td>NaN</td>\n",
              "      <td>NaN</td>\n",
              "      <td>369.78125</td>\n",
              "      <td>230.5</td>\n",
              "    </tr>\n",
              "    <tr>\n",
              "      <th>89</th>\n",
              "      <td>2020-07-29</td>\n",
              "      <td>NaN</td>\n",
              "      <td>NaN</td>\n",
              "      <td>369.78125</td>\n",
              "      <td>230.5</td>\n",
              "    </tr>\n",
              "  </tbody>\n",
              "</table>\n",
              "</div>"
            ],
            "text/plain": [
              "           ds   y  SR_M1        cap  floor\n",
              "85 2020-07-25 NaN    NaN  369.78125  230.5\n",
              "86 2020-07-26 NaN    NaN  369.78125  230.5\n",
              "87 2020-07-27 NaN    NaN  369.78125  230.5\n",
              "88 2020-07-28 NaN    NaN  369.78125  230.5\n",
              "89 2020-07-29 NaN    NaN  369.78125  230.5"
            ]
          },
          "metadata": {
            "tags": []
          },
          "execution_count": 87
        }
      ]
    },
    {
      "cell_type": "code",
      "metadata": {
        "id": "yowrvnHrwTKJ",
        "colab_type": "code",
        "colab": {}
      },
      "source": [
        "future.set_index(['ds'], inplace=True)"
      ],
      "execution_count": null,
      "outputs": []
    },
    {
      "cell_type": "code",
      "metadata": {
        "id": "XTSf0UD-7OW0",
        "colab_type": "code",
        "colab": {
          "base_uri": "https://localhost:8080/",
          "height": 268
        },
        "outputId": "2ca371d1-e3e1-4962-e6cd-7aebbbdddce3"
      },
      "source": [
        "list(future.groupby([future.index.month]))[0]"
      ],
      "execution_count": null,
      "outputs": [
        {
          "output_type": "execute_result",
          "data": {
            "text/plain": [
              "(1,                      y       SR_M1        cap  floor\n",
              " ds                                                  \n",
              " 2017-01-04  297.000000  442.000000  369.78125  230.5\n",
              " 2017-01-05  297.500000  435.500000  369.78125  230.5\n",
              " 2017-01-06  297.500000  435.000000  369.78125  230.5\n",
              " 2017-01-09  295.000000  435.000000  369.78125  230.5\n",
              " 2017-01-10  297.000000  435.000000  369.78125  230.5\n",
              " ...                ...         ...        ...    ...\n",
              " 2020-01-27  274.109375  433.015625  369.78125  230.5\n",
              " 2020-01-28  274.046875  436.048828  369.78125  230.5\n",
              " 2020-01-29  271.929688  430.031250  369.78125  230.5\n",
              " 2020-01-30  280.224609  440.863281  369.78125  230.5\n",
              " 2020-01-31  272.292500  436.628750  369.78125  230.5\n",
              " \n",
              " [113 rows x 4 columns])"
            ]
          },
          "metadata": {
            "tags": []
          },
          "execution_count": 70
        }
      ]
    },
    {
      "cell_type": "code",
      "metadata": {
        "id": "l6_ol3R99xGh",
        "colab_type": "code",
        "colab": {}
      },
      "source": [
        "# impute data\n",
        "future[['SR_M1']] = future[['SR_M1']].fillna(future[['SR_M1']].mean())"
      ],
      "execution_count": null,
      "outputs": []
    },
    {
      "cell_type": "code",
      "metadata": {
        "id": "vZ3HxKALqR3l",
        "colab_type": "code",
        "colab": {
          "base_uri": "https://localhost:8080/",
          "height": 1000
        },
        "outputId": "4c1379d6-a46c-4fca-a3bf-c73c1ae6e5e4"
      },
      "source": [
        "# Iterate through dates in batches of 30 days (1 month aprox) --> maybe 30.25??\n",
        "# Substract amount of months since start\n",
        "# assign corresponding data to batch rows\n",
        "\n",
        "def fill_future(d, end):\n",
        "  d = d.copy()\n",
        "  d2 = d.loc[d.index > end].copy()\n",
        "  last = d.loc[end]\n",
        "  for n, m in list(d2.groupby([d2.index.month])):\n",
        "    print('Month', n)\n",
        "    diff = abs(n - end.month)\n",
        "    print('Diff', diff)\n",
        "    if diff == 0:\n",
        "      m = last\n",
        "    elif diff <= 15:\n",
        "      m = d.loc[end, 'M'+str(diff)]\n",
        "    else:\n",
        "      raise ValueError('Trying to predict more than 15 months!')\n",
        "      return\n",
        "    \n",
        "    print(d2.loc[d2.index.month == n, :].head())\n",
        "    d2.loc[d2.index.month == n, :] = m[d2.columns].values\n",
        "    print(d2.loc[d2.index.month == n].head())\n",
        "    \n",
        "    break\n",
        "  d.loc[d.index > end] = d2\n",
        "  return d\n",
        "\n",
        "full_future = fill_future(future, df_pred.ds.iloc[-1])\n",
        "\n",
        "full_future.tail(91).head(32)"
      ],
      "execution_count": null,
      "outputs": [
        {
          "output_type": "execute_result",
          "data": {
            "text/html": [
              "<div>\n",
              "<style scoped>\n",
              "    .dataframe tbody tr th:only-of-type {\n",
              "        vertical-align: middle;\n",
              "    }\n",
              "\n",
              "    .dataframe tbody tr th {\n",
              "        vertical-align: top;\n",
              "    }\n",
              "\n",
              "    .dataframe thead th {\n",
              "        text-align: right;\n",
              "    }\n",
              "</style>\n",
              "<table border=\"1\" class=\"dataframe\">\n",
              "  <thead>\n",
              "    <tr style=\"text-align: right;\">\n",
              "      <th></th>\n",
              "      <th>y</th>\n",
              "      <th>SR_M1</th>\n",
              "      <th>cap</th>\n",
              "      <th>floor</th>\n",
              "    </tr>\n",
              "    <tr>\n",
              "      <th>ds</th>\n",
              "      <th></th>\n",
              "      <th></th>\n",
              "      <th></th>\n",
              "      <th></th>\n",
              "    </tr>\n",
              "  </thead>\n",
              "  <tbody>\n",
              "    <tr>\n",
              "      <th>2018-10-02</th>\n",
              "      <td>337.923828</td>\n",
              "      <td>533.191406</td>\n",
              "      <td>369.731445</td>\n",
              "      <td>230.0</td>\n",
              "    </tr>\n",
              "    <tr>\n",
              "      <th>2018-10-03</th>\n",
              "      <td>333.894531</td>\n",
              "      <td>533.256836</td>\n",
              "      <td>369.731445</td>\n",
              "      <td>230.0</td>\n",
              "    </tr>\n",
              "    <tr>\n",
              "      <th>2018-10-04</th>\n",
              "      <td>328.011719</td>\n",
              "      <td>530.001953</td>\n",
              "      <td>369.731445</td>\n",
              "      <td>230.0</td>\n",
              "    </tr>\n",
              "    <tr>\n",
              "      <th>2018-10-05</th>\n",
              "      <td>332.036133</td>\n",
              "      <td>532.421875</td>\n",
              "      <td>369.731445</td>\n",
              "      <td>230.0</td>\n",
              "    </tr>\n",
              "    <tr>\n",
              "      <th>2018-10-06</th>\n",
              "      <td>332.148926</td>\n",
              "      <td>533.074219</td>\n",
              "      <td>369.731445</td>\n",
              "      <td>230.0</td>\n",
              "    </tr>\n",
              "    <tr>\n",
              "      <th>2018-10-07</th>\n",
              "      <td>331.880859</td>\n",
              "      <td>533.636719</td>\n",
              "      <td>369.731445</td>\n",
              "      <td>230.0</td>\n",
              "    </tr>\n",
              "    <tr>\n",
              "      <th>2018-10-08</th>\n",
              "      <td>337.389648</td>\n",
              "      <td>539.023438</td>\n",
              "      <td>369.731445</td>\n",
              "      <td>230.0</td>\n",
              "    </tr>\n",
              "    <tr>\n",
              "      <th>2018-10-09</th>\n",
              "      <td>322.576172</td>\n",
              "      <td>526.527344</td>\n",
              "      <td>369.731445</td>\n",
              "      <td>230.0</td>\n",
              "    </tr>\n",
              "    <tr>\n",
              "      <th>2018-10-10</th>\n",
              "      <td>317.880859</td>\n",
              "      <td>513.773438</td>\n",
              "      <td>369.731445</td>\n",
              "      <td>230.0</td>\n",
              "    </tr>\n",
              "    <tr>\n",
              "      <th>2018-10-11</th>\n",
              "      <td>335.346680</td>\n",
              "      <td>535.119141</td>\n",
              "      <td>369.731445</td>\n",
              "      <td>230.0</td>\n",
              "    </tr>\n",
              "    <tr>\n",
              "      <th>2018-10-12</th>\n",
              "      <td>335.236328</td>\n",
              "      <td>535.472656</td>\n",
              "      <td>369.731445</td>\n",
              "      <td>230.0</td>\n",
              "    </tr>\n",
              "    <tr>\n",
              "      <th>2018-10-13</th>\n",
              "      <td>315.000000</td>\n",
              "      <td>520.478516</td>\n",
              "      <td>369.731445</td>\n",
              "      <td>230.0</td>\n",
              "    </tr>\n",
              "    <tr>\n",
              "      <th>2018-10-14</th>\n",
              "      <td>322.480469</td>\n",
              "      <td>522.734375</td>\n",
              "      <td>369.731445</td>\n",
              "      <td>230.0</td>\n",
              "    </tr>\n",
              "    <tr>\n",
              "      <th>2018-10-15</th>\n",
              "      <td>324.759766</td>\n",
              "      <td>525.804688</td>\n",
              "      <td>369.731445</td>\n",
              "      <td>230.0</td>\n",
              "    </tr>\n",
              "    <tr>\n",
              "      <th>2018-10-16</th>\n",
              "      <td>319.183594</td>\n",
              "      <td>520.902344</td>\n",
              "      <td>369.731445</td>\n",
              "      <td>230.0</td>\n",
              "    </tr>\n",
              "    <tr>\n",
              "      <th>2018-10-17</th>\n",
              "      <td>311.066406</td>\n",
              "      <td>512.746094</td>\n",
              "      <td>369.731445</td>\n",
              "      <td>230.0</td>\n",
              "    </tr>\n",
              "    <tr>\n",
              "      <th>2018-10-18</th>\n",
              "      <td>332.099609</td>\n",
              "      <td>535.074219</td>\n",
              "      <td>369.731445</td>\n",
              "      <td>230.0</td>\n",
              "    </tr>\n",
              "    <tr>\n",
              "      <th>2018-10-19</th>\n",
              "      <td>336.107422</td>\n",
              "      <td>531.753906</td>\n",
              "      <td>369.731445</td>\n",
              "      <td>230.0</td>\n",
              "    </tr>\n",
              "    <tr>\n",
              "      <th>2018-10-20</th>\n",
              "      <td>313.652344</td>\n",
              "      <td>515.373047</td>\n",
              "      <td>369.731445</td>\n",
              "      <td>230.0</td>\n",
              "    </tr>\n",
              "    <tr>\n",
              "      <th>2018-10-21</th>\n",
              "      <td>316.628906</td>\n",
              "      <td>519.070312</td>\n",
              "      <td>369.731445</td>\n",
              "      <td>230.0</td>\n",
              "    </tr>\n",
              "    <tr>\n",
              "      <th>2018-10-22</th>\n",
              "      <td>317.859375</td>\n",
              "      <td>518.440918</td>\n",
              "      <td>369.731445</td>\n",
              "      <td>230.0</td>\n",
              "    </tr>\n",
              "    <tr>\n",
              "      <th>2018-10-23</th>\n",
              "      <td>314.378906</td>\n",
              "      <td>515.552734</td>\n",
              "      <td>369.731445</td>\n",
              "      <td>230.0</td>\n",
              "    </tr>\n",
              "    <tr>\n",
              "      <th>2018-10-24</th>\n",
              "      <td>316.662109</td>\n",
              "      <td>511.568359</td>\n",
              "      <td>369.731445</td>\n",
              "      <td>230.0</td>\n",
              "    </tr>\n",
              "    <tr>\n",
              "      <th>2018-10-25</th>\n",
              "      <td>330.589844</td>\n",
              "      <td>531.986328</td>\n",
              "      <td>369.731445</td>\n",
              "      <td>230.0</td>\n",
              "    </tr>\n",
              "    <tr>\n",
              "      <th>2018-10-26</th>\n",
              "      <td>331.742188</td>\n",
              "      <td>528.273438</td>\n",
              "      <td>369.731445</td>\n",
              "      <td>230.0</td>\n",
              "    </tr>\n",
              "    <tr>\n",
              "      <th>2018-10-27</th>\n",
              "      <td>337.291016</td>\n",
              "      <td>541.115234</td>\n",
              "      <td>369.731445</td>\n",
              "      <td>230.0</td>\n",
              "    </tr>\n",
              "    <tr>\n",
              "      <th>2018-10-28</th>\n",
              "      <td>319.820312</td>\n",
              "      <td>517.148438</td>\n",
              "      <td>369.731445</td>\n",
              "      <td>230.0</td>\n",
              "    </tr>\n",
              "    <tr>\n",
              "      <th>2018-10-29</th>\n",
              "      <td>322.490234</td>\n",
              "      <td>520.179688</td>\n",
              "      <td>369.731445</td>\n",
              "      <td>230.0</td>\n",
              "    </tr>\n",
              "    <tr>\n",
              "      <th>2018-10-30</th>\n",
              "      <td>317.496094</td>\n",
              "      <td>518.941406</td>\n",
              "      <td>369.731445</td>\n",
              "      <td>230.0</td>\n",
              "    </tr>\n",
              "    <tr>\n",
              "      <th>2018-10-31</th>\n",
              "      <td>318.810313</td>\n",
              "      <td>516.179531</td>\n",
              "      <td>369.731445</td>\n",
              "      <td>230.0</td>\n",
              "    </tr>\n",
              "    <tr>\n",
              "      <th>2018-11-01</th>\n",
              "      <td>326.801758</td>\n",
              "      <td>529.357422</td>\n",
              "      <td>369.731445</td>\n",
              "      <td>230.0</td>\n",
              "    </tr>\n",
              "    <tr>\n",
              "      <th>2018-11-02</th>\n",
              "      <td>331.152344</td>\n",
              "      <td>528.636719</td>\n",
              "      <td>369.731445</td>\n",
              "      <td>230.0</td>\n",
              "    </tr>\n",
              "  </tbody>\n",
              "</table>\n",
              "</div>"
            ],
            "text/plain": [
              "                     y       SR_M1         cap  floor\n",
              "ds                                                   \n",
              "2018-10-02  337.923828  533.191406  369.731445  230.0\n",
              "2018-10-03  333.894531  533.256836  369.731445  230.0\n",
              "2018-10-04  328.011719  530.001953  369.731445  230.0\n",
              "2018-10-05  332.036133  532.421875  369.731445  230.0\n",
              "2018-10-06  332.148926  533.074219  369.731445  230.0\n",
              "2018-10-07  331.880859  533.636719  369.731445  230.0\n",
              "2018-10-08  337.389648  539.023438  369.731445  230.0\n",
              "2018-10-09  322.576172  526.527344  369.731445  230.0\n",
              "2018-10-10  317.880859  513.773438  369.731445  230.0\n",
              "2018-10-11  335.346680  535.119141  369.731445  230.0\n",
              "2018-10-12  335.236328  535.472656  369.731445  230.0\n",
              "2018-10-13  315.000000  520.478516  369.731445  230.0\n",
              "2018-10-14  322.480469  522.734375  369.731445  230.0\n",
              "2018-10-15  324.759766  525.804688  369.731445  230.0\n",
              "2018-10-16  319.183594  520.902344  369.731445  230.0\n",
              "2018-10-17  311.066406  512.746094  369.731445  230.0\n",
              "2018-10-18  332.099609  535.074219  369.731445  230.0\n",
              "2018-10-19  336.107422  531.753906  369.731445  230.0\n",
              "2018-10-20  313.652344  515.373047  369.731445  230.0\n",
              "2018-10-21  316.628906  519.070312  369.731445  230.0\n",
              "2018-10-22  317.859375  518.440918  369.731445  230.0\n",
              "2018-10-23  314.378906  515.552734  369.731445  230.0\n",
              "2018-10-24  316.662109  511.568359  369.731445  230.0\n",
              "2018-10-25  330.589844  531.986328  369.731445  230.0\n",
              "2018-10-26  331.742188  528.273438  369.731445  230.0\n",
              "2018-10-27  337.291016  541.115234  369.731445  230.0\n",
              "2018-10-28  319.820312  517.148438  369.731445  230.0\n",
              "2018-10-29  322.490234  520.179688  369.731445  230.0\n",
              "2018-10-30  317.496094  518.941406  369.731445  230.0\n",
              "2018-10-31  318.810313  516.179531  369.731445  230.0\n",
              "2018-11-01  326.801758  529.357422  369.731445  230.0\n",
              "2018-11-02  331.152344  528.636719  369.731445  230.0"
            ]
          },
          "metadata": {
            "tags": []
          },
          "execution_count": 44
        }
      ]
    },
    {
      "cell_type": "code",
      "metadata": {
        "id": "FUQ910Xf8FbB",
        "colab_type": "code",
        "colab": {}
      },
      "source": [
        "future = future.dropna()"
      ],
      "execution_count": null,
      "outputs": []
    },
    {
      "cell_type": "code",
      "metadata": {
        "id": "XlZMqeb8-bJe",
        "colab_type": "code",
        "colab": {}
      },
      "source": [
        "future.reset_index(inplace=True, drop=False)"
      ],
      "execution_count": null,
      "outputs": []
    },
    {
      "cell_type": "code",
      "metadata": {
        "id": "Ky48BF-qbHGI",
        "colab_type": "code",
        "colab": {
          "base_uri": "https://localhost:8080/",
          "height": 441
        },
        "outputId": "3f2de5a7-a7cf-4142-cf39-1baf079e18a5"
      },
      "source": [
        "future_forecast = model.predict(future)\n",
        "fig = model.plot(future_forecast)"
      ],
      "execution_count": null,
      "outputs": [
        {
          "output_type": "display_data",
          "data": {
            "image/png": "[encoded data removed]",
            "text/plain": [
              "<Figure size 720x432 with 1 Axes>"
            ]
          },
          "metadata": {
            "tags": []
          }
        }
      ]
    },
    {
      "cell_type": "code",
      "metadata": {
        "id": "pCarmib822NL",
        "colab_type": "code",
        "colab": {}
      },
      "source": [
        "future_forecast['fact'] = future['y'].reset_index(drop=True) # habría que tener un dataframe con datos de validación\n",
        "print('Accuracy: {:.2f}%'.format(r2_score(future_forecast.fact, future_forecast.yhat)*100))"
      ],
      "execution_count": null,
      "outputs": []
    },
    {
      "cell_type": "code",
      "metadata": {
        "id": "q62r2_UAAKBt",
        "colab_type": "code",
        "colab": {}
      },
      "source": [
        ""
      ],
      "execution_count": null,
      "outputs": []
    }
  ]
}