{
  "nbformat": 4,
  "nbformat_minor": 0,
  "metadata": {
    "colab": {
      "name": "EDA.ipynb",
      "provenance": [],
      "authorship_tag": "ABX9TyN2M3FWSK3WnRLo4e/Lxuj9",
      "include_colab_link": true
    },
    "kernelspec": {
      "name": "python3",
      "display_name": "Python 3"
    }
  },
  "cells": [
    {
      "cell_type": "markdown",
      "metadata": {
        "id": "view-in-github",
        "colab_type": "text"
      },
      "source": [
        "<a href=\"https://colab.research.google.com/github/MateoPeri/steel-scrap-predictor/blob/master/EDA.ipynb\" target=\"_parent\"><img src=\"https://colab.research.google.com/assets/colab-badge.svg\" alt=\"Open In Colab\"/></a>"
      ]
    },
    {
      "cell_type": "code",
      "metadata": {
        "id": "dZNkMxo943AA",
        "colab_type": "code",
        "colab": {}
      },
      "source": [
        "import pandas as pd\n",
        "import numpy as np\n",
        "import glob\n",
        "\n",
        "from sklearn.metrics import mean_squared_error, r2_score, mean_absolute_error\n",
        "\n",
        "from fbprophet import Prophet\n",
        "import matplotlib.pyplot as plt\n",
        "import altair as alt\n",
        "plt.style.use('seaborn-poster')"
      ],
      "execution_count": 0,
      "outputs": []
    },
    {
      "cell_type": "code",
      "metadata": {
        "id": "C4YhtlIr7Bkj",
        "colab_type": "code",
        "colab": {
          "base_uri": "https://localhost:8080/",
          "height": 370
        },
        "outputId": "2715a077-1ac3-4246-9b64-2098e3528054"
      },
      "source": [
        "!rm -rf '/content/data'\n",
        "!mkdir data\n",
        "PATH = '/content/data/'\n",
        "!wget -P {PATH} https://raw.githubusercontent.com/MateoPeri/steel-scrap-predictor/master/data/raw.zip\n",
        "!unzip {PATH}raw.zip"
      ],
      "execution_count": 4,
      "outputs": [
        {
          "output_type": "stream",
          "text": [
            "--2020-06-05 14:42:06--  https://raw.githubusercontent.com/MateoPeri/steel-scrap-predictor/master/data/raw.zip\n",
            "Resolving raw.githubusercontent.com (raw.githubusercontent.com)... 151.101.0.133, 151.101.64.133, 151.101.128.133, ...\n",
            "Connecting to raw.githubusercontent.com (raw.githubusercontent.com)|151.101.0.133|:443... connected.\n",
            "HTTP request sent, awaiting response... 200 OK\n",
            "Length: 240524 (235K) [application/zip]\n",
            "Saving to: ‘/content/data/raw.zip’\n",
            "\n",
            "raw.zip             100%[===================>] 234.89K  --.-KB/s    in 0.05s   \n",
            "\n",
            "2020-06-05 14:42:07 (4.53 MB/s) - ‘/content/data/raw.zip’ saved [240524/240524]\n",
            "\n",
            "Archive:  /content/data/raw.zip\n",
            "   creating: raw/\n",
            "  inflating: raw/HC Closing Prices.xlsx  \n",
            "  inflating: raw/HC Final Settlement prices.xlsx  \n",
            "  inflating: raw/HU Closing Prices.xlsx  \n",
            "  inflating: raw/HU Final Settlement prices.xlsx  \n",
            "  inflating: raw/SC Closing Prices.xlsx  \n",
            "  inflating: raw/SC Final Settlement prices.xlsx  \n",
            "  inflating: raw/SR Closing Prices.xlsx  \n",
            "  inflating: raw/SR Final Settlement prices.xlsx  \n"
          ],
          "name": "stdout"
        }
      ]
    },
    {
      "cell_type": "code",
      "metadata": {
        "id": "R2WShv21_PWC",
        "colab_type": "code",
        "colab": {}
      },
      "source": [
        "def st_to_mt(st):\n",
        "  return st/1.10231131"
      ],
      "execution_count": 0,
      "outputs": []
    },
    {
      "cell_type": "code",
      "metadata": {
        "id": "17E9W2w_6aWM",
        "colab_type": "code",
        "colab": {
          "base_uri": "https://localhost:8080/",
          "height": 195
        },
        "outputId": "30750f79-f2af-4655-d594-f0d282ea6aaa"
      },
      "source": [
        "pattern = 'raw/*Closing Prices.xlsx'\n",
        "excels = glob.glob(pattern)\n",
        "\n",
        "frames = []\n",
        "\n",
        "for xcel in excels:\n",
        "  df = pd.read_excel(xcel, parse_dates=True, sep=';', escapechar='\\\\', encoding='ISO-8859-1', decimal=',', thousands='.')\n",
        "  name = xcel[4:6]\n",
        "  if (name == 'HU'):\n",
        "    # Seleccionar todas las columnas menos USD/st\n",
        "    cols = [c for c in df.columns if c != 'USD/st (Short Ton)']\n",
        "    # y aplicarles la funcion st_to_mt para pasar a toneladas métricas\n",
        "    df[cols] = df[cols].apply(st_to_mt, axis=1)\n",
        "    # Cambiamos el nombre a la columna\n",
        "    df.rename({'USD/st (Short Ton)': 'USD/mt'}, axis=1, inplace=True)\n",
        "  # le añadimos un nombre para saber qué metal es\n",
        "  df['Metal'] = name\n",
        "  frames.append(df)\n",
        "\n",
        "df = pd.concat(frames, ignore_index=True)\n",
        "\n",
        "df.head()"
      ],
      "execution_count": 47,
      "outputs": [
        {
          "output_type": "execute_result",
          "data": {
            "text/html": [
              "<div>\n",
              "<style scoped>\n",
              "    .dataframe tbody tr th:only-of-type {\n",
              "        vertical-align: middle;\n",
              "    }\n",
              "\n",
              "    .dataframe tbody tr th {\n",
              "        vertical-align: top;\n",
              "    }\n",
              "\n",
              "    .dataframe thead th {\n",
              "        text-align: right;\n",
              "    }\n",
              "</style>\n",
              "<table border=\"1\" class=\"dataframe\">\n",
              "  <thead>\n",
              "    <tr style=\"text-align: right;\">\n",
              "      <th></th>\n",
              "      <th>USD/mt</th>\n",
              "      <th>M1</th>\n",
              "      <th>M2</th>\n",
              "      <th>M3</th>\n",
              "      <th>M4</th>\n",
              "      <th>M5</th>\n",
              "      <th>M6</th>\n",
              "      <th>M7</th>\n",
              "      <th>M8</th>\n",
              "      <th>M9</th>\n",
              "      <th>M10</th>\n",
              "      <th>M11</th>\n",
              "      <th>M12</th>\n",
              "      <th>M13</th>\n",
              "      <th>M14</th>\n",
              "      <th>M15</th>\n",
              "      <th>Metal</th>\n",
              "    </tr>\n",
              "  </thead>\n",
              "  <tbody>\n",
              "    <tr>\n",
              "      <th>0</th>\n",
              "      <td>2015-11-23</td>\n",
              "      <td>195.0</td>\n",
              "      <td>195.0</td>\n",
              "      <td>195.0</td>\n",
              "      <td>195.0</td>\n",
              "      <td>195.0</td>\n",
              "      <td>195.0</td>\n",
              "      <td>195.0</td>\n",
              "      <td>195.0</td>\n",
              "      <td>195.0</td>\n",
              "      <td>195.0</td>\n",
              "      <td>195.0</td>\n",
              "      <td>195.0</td>\n",
              "      <td>195.0</td>\n",
              "      <td>195.0</td>\n",
              "      <td>195.0</td>\n",
              "      <td>SC</td>\n",
              "    </tr>\n",
              "    <tr>\n",
              "      <th>1</th>\n",
              "      <td>2015-11-24</td>\n",
              "      <td>195.0</td>\n",
              "      <td>195.0</td>\n",
              "      <td>195.0</td>\n",
              "      <td>195.0</td>\n",
              "      <td>195.0</td>\n",
              "      <td>195.0</td>\n",
              "      <td>195.0</td>\n",
              "      <td>195.0</td>\n",
              "      <td>195.0</td>\n",
              "      <td>195.0</td>\n",
              "      <td>195.0</td>\n",
              "      <td>195.0</td>\n",
              "      <td>195.0</td>\n",
              "      <td>195.0</td>\n",
              "      <td>195.0</td>\n",
              "      <td>SC</td>\n",
              "    </tr>\n",
              "    <tr>\n",
              "      <th>2</th>\n",
              "      <td>2015-11-25</td>\n",
              "      <td>195.0</td>\n",
              "      <td>193.0</td>\n",
              "      <td>193.0</td>\n",
              "      <td>193.0</td>\n",
              "      <td>193.0</td>\n",
              "      <td>193.0</td>\n",
              "      <td>193.0</td>\n",
              "      <td>193.0</td>\n",
              "      <td>193.0</td>\n",
              "      <td>193.0</td>\n",
              "      <td>193.0</td>\n",
              "      <td>193.0</td>\n",
              "      <td>193.0</td>\n",
              "      <td>193.0</td>\n",
              "      <td>193.0</td>\n",
              "      <td>SC</td>\n",
              "    </tr>\n",
              "    <tr>\n",
              "      <th>3</th>\n",
              "      <td>2015-11-26</td>\n",
              "      <td>192.0</td>\n",
              "      <td>193.0</td>\n",
              "      <td>193.0</td>\n",
              "      <td>193.0</td>\n",
              "      <td>193.0</td>\n",
              "      <td>193.0</td>\n",
              "      <td>193.0</td>\n",
              "      <td>193.0</td>\n",
              "      <td>193.0</td>\n",
              "      <td>193.0</td>\n",
              "      <td>193.0</td>\n",
              "      <td>193.0</td>\n",
              "      <td>193.0</td>\n",
              "      <td>193.0</td>\n",
              "      <td>193.0</td>\n",
              "      <td>SC</td>\n",
              "    </tr>\n",
              "    <tr>\n",
              "      <th>4</th>\n",
              "      <td>2015-11-27</td>\n",
              "      <td>192.0</td>\n",
              "      <td>193.0</td>\n",
              "      <td>193.0</td>\n",
              "      <td>193.0</td>\n",
              "      <td>193.0</td>\n",
              "      <td>193.0</td>\n",
              "      <td>193.0</td>\n",
              "      <td>193.0</td>\n",
              "      <td>193.0</td>\n",
              "      <td>193.0</td>\n",
              "      <td>193.0</td>\n",
              "      <td>193.0</td>\n",
              "      <td>193.0</td>\n",
              "      <td>193.0</td>\n",
              "      <td>193.0</td>\n",
              "      <td>SC</td>\n",
              "    </tr>\n",
              "  </tbody>\n",
              "</table>\n",
              "</div>"
            ],
            "text/plain": [
              "      USD/mt     M1     M2     M3     M4  ...    M12    M13    M14    M15  Metal\n",
              "0 2015-11-23  195.0  195.0  195.0  195.0  ...  195.0  195.0  195.0  195.0     SC\n",
              "1 2015-11-24  195.0  195.0  195.0  195.0  ...  195.0  195.0  195.0  195.0     SC\n",
              "2 2015-11-25  195.0  193.0  193.0  193.0  ...  193.0  193.0  193.0  193.0     SC\n",
              "3 2015-11-26  192.0  193.0  193.0  193.0  ...  193.0  193.0  193.0  193.0     SC\n",
              "4 2015-11-27  192.0  193.0  193.0  193.0  ...  193.0  193.0  193.0  193.0     SC\n",
              "\n",
              "[5 rows x 17 columns]"
            ]
          },
          "metadata": {
            "tags": []
          },
          "execution_count": 47
        }
      ]
    },
    {
      "cell_type": "code",
      "metadata": {
        "id": "n3QeKNsGDSYh",
        "colab_type": "code",
        "colab": {
          "base_uri": "https://localhost:8080/",
          "height": 437
        },
        "outputId": "c928166b-382a-4761-eb52-720661f8b2bd"
      },
      "source": [
        "print(df.shape)\n",
        "# Contamos los valores nulos del dataset -> 0\n",
        "df.info()"
      ],
      "execution_count": 57,
      "outputs": [
        {
          "output_type": "stream",
          "text": [
            "(2835, 17)\n",
            "<class 'pandas.core.frame.DataFrame'>\n",
            "RangeIndex: 2835 entries, 0 to 2834\n",
            "Data columns (total 17 columns):\n",
            " #   Column  Non-Null Count  Dtype         \n",
            "---  ------  --------------  -----         \n",
            " 0   USD/mt  2835 non-null   datetime64[ns]\n",
            " 1   M1      2835 non-null   float64       \n",
            " 2   M2      2835 non-null   float64       \n",
            " 3   M3      2835 non-null   float64       \n",
            " 4   M4      2835 non-null   float64       \n",
            " 5   M5      2835 non-null   float64       \n",
            " 6   M6      2835 non-null   float64       \n",
            " 7   M7      2835 non-null   float64       \n",
            " 8   M8      2835 non-null   float64       \n",
            " 9   M9      2835 non-null   float64       \n",
            " 10  M10     2835 non-null   float64       \n",
            " 11  M11     2835 non-null   float64       \n",
            " 12  M12     2835 non-null   float64       \n",
            " 13  M13     2835 non-null   float64       \n",
            " 14  M14     2835 non-null   float64       \n",
            " 15  M15     2835 non-null   float64       \n",
            " 16  Metal   2835 non-null   object        \n",
            "dtypes: datetime64[ns](1), float64(15), object(1)\n",
            "memory usage: 376.6+ KB\n"
          ],
          "name": "stdout"
        }
      ]
    },
    {
      "cell_type": "code",
      "metadata": {
        "id": "svUvR7JmDPbU",
        "colab_type": "code",
        "colab": {}
      },
      "source": [
        ""
      ],
      "execution_count": 0,
      "outputs": []
    }
  ]
}